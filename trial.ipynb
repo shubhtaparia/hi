{
  "nbformat": 4,
  "nbformat_minor": 0,
  "metadata": {
    "colab": {
      "provenance": []
    },
    "kernelspec": {
      "name": "python3",
      "display_name": "Python 3"
    },
    "language_info": {
      "name": "python"
    }
  },
  "cells": [
    {
      "cell_type": "code",
      "execution_count": null,
      "metadata": {
        "id": "HkiiE7VxhADv"
      },
      "outputs": [],
      "source": []
    },
    {
      "cell_type": "markdown",
      "source": [
        "#to kaise hai aap log\n",
        "\n",
        "me kya karu\n",
        "\n",
        "smjh nhi aa rha\n",
        "\n",
        "\n",
        "\n"
      ],
      "metadata": {
        "id": "PcAhYIn9hGhv"
      }
    }
  ]
}