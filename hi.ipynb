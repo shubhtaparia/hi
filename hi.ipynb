{
  "nbformat": 4,
  "nbformat_minor": 0,
  "metadata": {
    "colab": {
      "provenance": []
    },
    "kernelspec": {
      "name": "python3",
      "display_name": "Python 3"
    },
    "language_info": {
      "name": "python"
    }
  },
  "cells": [
    {
      "cell_type": "code",
      "execution_count": null,
      "metadata": {
        "id": "6v6JJtc_akqP"
      },
      "outputs": [],
      "source": []
    },
    {
      "cell_type": "markdown",
      "source": [
        "#hi"
      ],
      "metadata": {
        "id": "lOUeTIx2epld"
      }
    },
    {
      "cell_type": "markdown",
      "source": [
        "how are u\n",
        "\n",
        "hope so u are fine"
      ],
      "metadata": {
        "id": "ymx4pfpYeuil"
      }
    }
  ]
}